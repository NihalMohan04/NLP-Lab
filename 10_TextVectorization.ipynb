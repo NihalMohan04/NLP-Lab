{
 "cells": [
  {
   "cell_type": "code",
   "execution_count": 1,
   "metadata": {
    "executionInfo": {
     "elapsed": 2,
     "status": "ok",
     "timestamp": 1713466880457,
     "user": {
      "displayName": "Harshit Raj",
      "userId": "00461961014179132180"
     },
     "user_tz": -330
    },
    "id": "xbx0z7Z1fEJg"
   },
   "outputs": [],
   "source": [
    "msg = [\"Shaw likes to play cricket\", \"Mary likes to play tennis\", \"John likes to play volleyball or cricket\", \"Heena likes to play tennis or throwball\"]"
   ]
  },
  {
   "cell_type": "code",
   "execution_count": 12,
   "metadata": {
    "colab": {
     "base_uri": "https://localhost:8080/",
     "height": 231
    },
    "executionInfo": {
     "elapsed": 2740,
     "status": "ok",
     "timestamp": 1713466885493,
     "user": {
      "displayName": "Harshit Raj",
      "userId": "00461961014179132180"
     },
     "user_tz": -330
    },
    "id": "CFjnhu63X4s3",
    "outputId": "58271e36-54e1-464a-f3f8-4d4fa4767c2c"
   },
   "outputs": [
    {
     "name": "stdout",
     "output_type": "stream",
     "text": [
      "['cricket' 'heena' 'john' 'likes' 'mary' 'or' 'play' 'shaw' 'tennis'\n",
      " 'throwball' 'to' 'volleyball']\n"
     ]
    },
    {
     "data": {
      "text/html": [
       "<div>\n",
       "<style scoped>\n",
       "    .dataframe tbody tr th:only-of-type {\n",
       "        vertical-align: middle;\n",
       "    }\n",
       "\n",
       "    .dataframe tbody tr th {\n",
       "        vertical-align: top;\n",
       "    }\n",
       "\n",
       "    .dataframe thead th {\n",
       "        text-align: right;\n",
       "    }\n",
       "</style>\n",
       "<table border=\"1\" class=\"dataframe\">\n",
       "  <thead>\n",
       "    <tr style=\"text-align: right;\">\n",
       "      <th></th>\n",
       "      <th>cricket</th>\n",
       "      <th>heena</th>\n",
       "      <th>john</th>\n",
       "      <th>likes</th>\n",
       "      <th>mary</th>\n",
       "      <th>or</th>\n",
       "      <th>play</th>\n",
       "      <th>shaw</th>\n",
       "      <th>tennis</th>\n",
       "      <th>throwball</th>\n",
       "      <th>to</th>\n",
       "      <th>volleyball</th>\n",
       "    </tr>\n",
       "  </thead>\n",
       "  <tbody>\n",
       "    <tr>\n",
       "      <th>0</th>\n",
       "      <td>1</td>\n",
       "      <td>0</td>\n",
       "      <td>0</td>\n",
       "      <td>1</td>\n",
       "      <td>0</td>\n",
       "      <td>0</td>\n",
       "      <td>1</td>\n",
       "      <td>1</td>\n",
       "      <td>0</td>\n",
       "      <td>0</td>\n",
       "      <td>1</td>\n",
       "      <td>0</td>\n",
       "    </tr>\n",
       "    <tr>\n",
       "      <th>1</th>\n",
       "      <td>0</td>\n",
       "      <td>0</td>\n",
       "      <td>0</td>\n",
       "      <td>1</td>\n",
       "      <td>1</td>\n",
       "      <td>0</td>\n",
       "      <td>1</td>\n",
       "      <td>0</td>\n",
       "      <td>1</td>\n",
       "      <td>0</td>\n",
       "      <td>1</td>\n",
       "      <td>0</td>\n",
       "    </tr>\n",
       "    <tr>\n",
       "      <th>2</th>\n",
       "      <td>1</td>\n",
       "      <td>0</td>\n",
       "      <td>1</td>\n",
       "      <td>1</td>\n",
       "      <td>0</td>\n",
       "      <td>1</td>\n",
       "      <td>1</td>\n",
       "      <td>0</td>\n",
       "      <td>0</td>\n",
       "      <td>0</td>\n",
       "      <td>1</td>\n",
       "      <td>1</td>\n",
       "    </tr>\n",
       "    <tr>\n",
       "      <th>3</th>\n",
       "      <td>0</td>\n",
       "      <td>1</td>\n",
       "      <td>0</td>\n",
       "      <td>1</td>\n",
       "      <td>0</td>\n",
       "      <td>1</td>\n",
       "      <td>1</td>\n",
       "      <td>0</td>\n",
       "      <td>1</td>\n",
       "      <td>1</td>\n",
       "      <td>1</td>\n",
       "      <td>0</td>\n",
       "    </tr>\n",
       "  </tbody>\n",
       "</table>\n",
       "</div>"
      ],
      "text/plain": [
       "   cricket  heena  john  likes  mary  or  play  shaw  tennis  throwball  to  \\\n",
       "0        1      0     0      1     0   0     1     1       0          0   1   \n",
       "1        0      0     0      1     1   0     1     0       1          0   1   \n",
       "2        1      0     1      1     0   1     1     0       0          0   1   \n",
       "3        0      1     0      1     0   1     1     0       1          1   1   \n",
       "\n",
       "   volleyball  \n",
       "0           0  \n",
       "1           0  \n",
       "2           1  \n",
       "3           0  "
      ]
     },
     "execution_count": 12,
     "metadata": {},
     "output_type": "execute_result"
    }
   ],
   "source": [
    "from sklearn.feature_extraction.text import CountVectorizer, TfidfVectorizer\n",
    "import pandas as pd\n",
    "vec = CountVectorizer()\n",
    "bag = vec.fit_transform(msg).toarray()\n",
    "print(vec.get_feature_names_out())\n",
    "df = pd.DataFrame(bag, columns=vec.get_feature_names_out())\n",
    "df"
   ]
  },
  {
   "cell_type": "markdown",
   "metadata": {
    "id": "JAQDgTzfgzjw"
   },
   "source": [
    "## Tf-IDF"
   ]
  },
  {
   "cell_type": "code",
   "execution_count": 13,
   "metadata": {
    "colab": {
     "base_uri": "https://localhost:8080/",
     "height": 231
    },
    "executionInfo": {
     "elapsed": 696,
     "status": "ok",
     "timestamp": 1713466890282,
     "user": {
      "displayName": "Harshit Raj",
      "userId": "00461961014179132180"
     },
     "user_tz": -330
    },
    "id": "EYT04_42gyoh",
    "outputId": "e13489cc-777e-4394-82c0-b17df5c79494"
   },
   "outputs": [
    {
     "name": "stdout",
     "output_type": "stream",
     "text": [
      "['cricket' 'heena' 'john' 'likes' 'mary' 'or' 'play' 'shaw' 'tennis'\n",
      " 'throwball' 'to' 'volleyball']\n"
     ]
    },
    {
     "data": {
      "text/html": [
       "<div>\n",
       "<style scoped>\n",
       "    .dataframe tbody tr th:only-of-type {\n",
       "        vertical-align: middle;\n",
       "    }\n",
       "\n",
       "    .dataframe tbody tr th {\n",
       "        vertical-align: top;\n",
       "    }\n",
       "\n",
       "    .dataframe thead th {\n",
       "        text-align: right;\n",
       "    }\n",
       "</style>\n",
       "<table border=\"1\" class=\"dataframe\">\n",
       "  <thead>\n",
       "    <tr style=\"text-align: right;\">\n",
       "      <th></th>\n",
       "      <th>cricket</th>\n",
       "      <th>heena</th>\n",
       "      <th>john</th>\n",
       "      <th>likes</th>\n",
       "      <th>mary</th>\n",
       "      <th>or</th>\n",
       "      <th>play</th>\n",
       "      <th>shaw</th>\n",
       "      <th>tennis</th>\n",
       "      <th>throwball</th>\n",
       "      <th>to</th>\n",
       "      <th>volleyball</th>\n",
       "    </tr>\n",
       "  </thead>\n",
       "  <tbody>\n",
       "    <tr>\n",
       "      <th>0</th>\n",
       "      <td>0.504879</td>\n",
       "      <td>0.000000</td>\n",
       "      <td>0.000000</td>\n",
       "      <td>0.334174</td>\n",
       "      <td>0.000000</td>\n",
       "      <td>0.000000</td>\n",
       "      <td>0.334174</td>\n",
       "      <td>0.640375</td>\n",
       "      <td>0.000000</td>\n",
       "      <td>0.000000</td>\n",
       "      <td>0.334174</td>\n",
       "      <td>0.000000</td>\n",
       "    </tr>\n",
       "    <tr>\n",
       "      <th>1</th>\n",
       "      <td>0.000000</td>\n",
       "      <td>0.000000</td>\n",
       "      <td>0.000000</td>\n",
       "      <td>0.334174</td>\n",
       "      <td>0.640375</td>\n",
       "      <td>0.000000</td>\n",
       "      <td>0.334174</td>\n",
       "      <td>0.000000</td>\n",
       "      <td>0.504879</td>\n",
       "      <td>0.000000</td>\n",
       "      <td>0.334174</td>\n",
       "      <td>0.000000</td>\n",
       "    </tr>\n",
       "    <tr>\n",
       "      <th>2</th>\n",
       "      <td>0.391275</td>\n",
       "      <td>0.000000</td>\n",
       "      <td>0.496283</td>\n",
       "      <td>0.258981</td>\n",
       "      <td>0.000000</td>\n",
       "      <td>0.391275</td>\n",
       "      <td>0.258981</td>\n",
       "      <td>0.000000</td>\n",
       "      <td>0.000000</td>\n",
       "      <td>0.000000</td>\n",
       "      <td>0.258981</td>\n",
       "      <td>0.496283</td>\n",
       "    </tr>\n",
       "    <tr>\n",
       "      <th>3</th>\n",
       "      <td>0.000000</td>\n",
       "      <td>0.496283</td>\n",
       "      <td>0.000000</td>\n",
       "      <td>0.258981</td>\n",
       "      <td>0.000000</td>\n",
       "      <td>0.391275</td>\n",
       "      <td>0.258981</td>\n",
       "      <td>0.000000</td>\n",
       "      <td>0.391275</td>\n",
       "      <td>0.496283</td>\n",
       "      <td>0.258981</td>\n",
       "      <td>0.000000</td>\n",
       "    </tr>\n",
       "  </tbody>\n",
       "</table>\n",
       "</div>"
      ],
      "text/plain": [
       "    cricket     heena      john     likes      mary        or      play  \\\n",
       "0  0.504879  0.000000  0.000000  0.334174  0.000000  0.000000  0.334174   \n",
       "1  0.000000  0.000000  0.000000  0.334174  0.640375  0.000000  0.334174   \n",
       "2  0.391275  0.000000  0.496283  0.258981  0.000000  0.391275  0.258981   \n",
       "3  0.000000  0.496283  0.000000  0.258981  0.000000  0.391275  0.258981   \n",
       "\n",
       "       shaw    tennis  throwball        to  volleyball  \n",
       "0  0.640375  0.000000   0.000000  0.334174    0.000000  \n",
       "1  0.000000  0.504879   0.000000  0.334174    0.000000  \n",
       "2  0.000000  0.000000   0.000000  0.258981    0.496283  \n",
       "3  0.000000  0.391275   0.496283  0.258981    0.000000  "
      ]
     },
     "execution_count": 13,
     "metadata": {},
     "output_type": "execute_result"
    }
   ],
   "source": [
    "vec = TfidfVectorizer()\n",
    "bag = vec.fit_transform(msg).toarray()\n",
    "print(vec.get_feature_names_out())\n",
    "df = pd.DataFrame(bag, columns=vec.get_feature_names_out())\n",
    "df"
   ]
  },
  {
   "cell_type": "markdown",
   "metadata": {
    "id": "_8lYxaJuYYTY"
   },
   "source": [
    "## Word2Vec\n"
   ]
  },
  {
   "cell_type": "code",
   "execution_count": 16,
   "metadata": {
    "colab": {
     "base_uri": "https://localhost:8080/",
     "height": 90
    },
    "executionInfo": {
     "elapsed": 648,
     "status": "ok",
     "timestamp": 1713471737319,
     "user": {
      "displayName": "Harshit Raj",
      "userId": "00461961014179132180"
     },
     "user_tz": -330
    },
    "id": "Jhl10hHzYinK",
    "outputId": "6a13feaa-cfe8-4f70-df7b-979171096a28"
   },
   "outputs": [
    {
     "data": {
      "text/plain": [
       "'With Bag of Words and TF-IDF text vectorization techniques we did not get semantic meaning of words But for most of the applications of NLP tasks like sentiment classification, sarcasm detection etc require semantic meaning of a word and semantic relationships of a word with other words.\\n'"
      ]
     },
     "execution_count": 16,
     "metadata": {},
     "output_type": "execute_result"
    }
   ],
   "source": [
    "from nltk.tokenize import word_tokenize\n",
    "with open('word2vec.txt') as f:\n",
    "  text = f.readlines()\n",
    "text[0]"
   ]
  },
  {
   "cell_type": "code",
   "execution_count": 21,
   "metadata": {
    "colab": {
     "base_uri": "https://localhost:8080/"
    },
    "executionInfo": {
     "elapsed": 572,
     "status": "ok",
     "timestamp": 1713471670179,
     "user": {
      "displayName": "Harshit Raj",
      "userId": "00461961014179132180"
     },
     "user_tz": -330
    },
    "id": "Tr6b6WVqYrcE",
    "outputId": "5ab90170-b7ba-4fbe-daa8-7c34f74c9398"
   },
   "outputs": [
    {
     "name": "stdout",
     "output_type": "stream",
     "text": [
      "Number of sentences:  11\n",
      "First Sentence from the text file: \n",
      " With Bag of Words and TF IDF text vectorization techniques we did not get semantic meaning of words But for most of the applications of NLP tasks like sentiment classification  sarcasm detection etc require semantic meaning of a word and semantic relationships of a word with other words  \n"
     ]
    }
   ],
   "source": [
    "import re\n",
    "for i in range(len(text)):\n",
    "  text[i] = re.sub(\"[^a-zA-Z]\", ' ', text[i])\n",
    "print(\"Number of sentences: \", len(text))\n",
    "print(\"First Sentence from the text file: \\n\", text[0])"
   ]
  },
  {
   "cell_type": "code",
   "execution_count": 23,
   "metadata": {
    "colab": {
     "base_uri": "https://localhost:8080/"
    },
    "executionInfo": {
     "elapsed": 1584,
     "status": "ok",
     "timestamp": 1713471786800,
     "user": {
      "displayName": "Harshit Raj",
      "userId": "00461961014179132180"
     },
     "user_tz": -330
    },
    "id": "e2h862Ubh3tF",
    "outputId": "b7c86ad9-05f4-49be-c04b-7944ec633dc4",
    "scrolled": true
   },
   "outputs": [
    {
     "name": "stderr",
     "output_type": "stream",
     "text": [
      "[nltk_data] Downloading package punkt to\n",
      "[nltk_data]     C:\\Users\\nihal\\AppData\\Roaming\\nltk_data...\n",
      "[nltk_data]   Package punkt is already up-to-date!\n"
     ]
    },
    {
     "data": {
      "text/plain": [
       "['With',\n",
       " 'Bag',\n",
       " 'of',\n",
       " 'Words',\n",
       " 'and',\n",
       " 'TF',\n",
       " 'IDF',\n",
       " 'text',\n",
       " 'vectorization',\n",
       " 'techniques',\n",
       " 'we',\n",
       " 'did',\n",
       " 'not',\n",
       " 'get',\n",
       " 'semantic',\n",
       " 'meaning',\n",
       " 'of',\n",
       " 'words',\n",
       " 'But',\n",
       " 'for',\n",
       " 'most',\n",
       " 'of',\n",
       " 'the',\n",
       " 'applications',\n",
       " 'of',\n",
       " 'NLP',\n",
       " 'tasks',\n",
       " 'like',\n",
       " 'sentiment',\n",
       " 'classification',\n",
       " 'sarcasm',\n",
       " 'detection',\n",
       " 'etc',\n",
       " 'require',\n",
       " 'semantic',\n",
       " 'meaning',\n",
       " 'of',\n",
       " 'a',\n",
       " 'word',\n",
       " 'and',\n",
       " 'semantic',\n",
       " 'relationships',\n",
       " 'of',\n",
       " 'a',\n",
       " 'word',\n",
       " 'with',\n",
       " 'other',\n",
       " 'words']"
      ]
     },
     "execution_count": 23,
     "metadata": {},
     "output_type": "execute_result"
    }
   ],
   "source": [
    "import nltk\n",
    "nltk.download('punkt')\n",
    "token = []\n",
    "for i in text:\n",
    "  token.append(word_tokenize(i))\n",
    "token[0]"
   ]
  },
  {
   "cell_type": "code",
   "execution_count": 19,
   "metadata": {
    "colab": {
     "base_uri": "https://localhost:8080/"
    },
    "executionInfo": {
     "elapsed": 905,
     "status": "ok",
     "timestamp": 1713473066784,
     "user": {
      "displayName": "Harshit Raj",
      "userId": "00461961014179132180"
     },
     "user_tz": -330
    },
    "id": "7Ddd-Cg3iqsg",
    "outputId": "c02fd4e1-ce22-4824-e053-effdf232db03",
    "scrolled": true
   },
   "outputs": [
    {
     "data": {
      "text/plain": [
       "['of',\n",
       " 'and',\n",
       " 'words',\n",
       " 'a',\n",
       " 'vector',\n",
       " 'the',\n",
       " 'word',\n",
       " 'space',\n",
       " 'Word',\n",
       " 'in',\n",
       " 'semantic',\n",
       " 'context',\n",
       " 'method',\n",
       " 'gram',\n",
       " 'to',\n",
       " 'vec',\n",
       " 'skip',\n",
       " 'as',\n",
       " 'are',\n",
       " 'we',\n",
       " 'meaning',\n",
       " 'for',\n",
       " 'most',\n",
       " 'center',\n",
       " 'be',\n",
       " 'input',\n",
       " 'relationships',\n",
       " 'with',\n",
       " 'other',\n",
       " 'corpus',\n",
       " 'embeddings',\n",
       " 'well',\n",
       " 'size',\n",
       " 'is']"
      ]
     },
     "execution_count": 19,
     "metadata": {},
     "output_type": "execute_result"
    }
   ],
   "source": [
    "from gensim.models import Word2Vec\n",
    "cbow = Word2Vec(sentences = token, min_count=2, vector_size = 2)\n",
    "words = cbow.wv.index_to_key\n",
    "words"
   ]
  },
  {
   "cell_type": "code",
   "execution_count": 20,
   "metadata": {
    "colab": {
     "base_uri": "https://localhost:8080/"
    },
    "id": "3o2uzawxkU2o",
    "outputId": "6deac954-2513-4249-c06c-b2ae12da0cd3"
   },
   "outputs": [
    {
     "name": "stdout",
     "output_type": "stream",
     "text": [
      "Total Words:  34\n"
     ]
    },
    {
     "data": {
      "text/plain": [
       "array([0.255022, 0.450747], dtype=float32)"
      ]
     },
     "execution_count": 20,
     "metadata": {},
     "output_type": "execute_result"
    }
   ],
   "source": [
    "print('Total Words: ', len(words))\n",
    "cbow.wv.__getitem__('and')"
   ]
  },
  {
   "cell_type": "code",
   "execution_count": null,
   "metadata": {},
   "outputs": [],
   "source": []
  }
 ],
 "metadata": {
  "colab": {
   "provenance": []
  },
  "kernelspec": {
   "display_name": "Python 3 (ipykernel)",
   "language": "python",
   "name": "python3"
  },
  "language_info": {
   "codemirror_mode": {
    "name": "ipython",
    "version": 3
   },
   "file_extension": ".py",
   "mimetype": "text/x-python",
   "name": "python",
   "nbconvert_exporter": "python",
   "pygments_lexer": "ipython3",
   "version": "3.11.7"
  }
 },
 "nbformat": 4,
 "nbformat_minor": 4
}
