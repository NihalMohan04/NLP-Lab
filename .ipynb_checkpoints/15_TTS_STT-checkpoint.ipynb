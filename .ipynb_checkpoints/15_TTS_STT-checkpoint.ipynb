{
 "cells": [
  {
   "cell_type": "markdown",
   "id": "8e9f395c-1622-45e7-87c7-fd8e38fd8984",
   "metadata": {
    "id": "8e9f395c-1622-45e7-87c7-fd8e38fd8984"
   },
   "source": [
    "# Convert the given text to speech using in-built model."
   ]
  },
  {
   "cell_type": "code",
   "execution_count": 1,
   "id": "4d33b238-414a-4d91-8b01-9b5f99984a62",
   "metadata": {},
   "outputs": [],
   "source": [
    "# pip install pyttsx3\n",
    "# pip install py-espeak-ng\n",
    "# pip install SpeechRecognition\n",
    "# pip install pyaudio\n",
    "# pip install pocketsphinx"
   ]
  },
  {
   "cell_type": "code",
   "execution_count": 2,
   "id": "87ab93f9-a0c2-4869-83c4-0f9d559897f4",
   "metadata": {
    "executionInfo": {
     "elapsed": 1,
     "status": "ok",
     "timestamp": 1715805827556,
     "user": {
      "displayName": "Harshit Raj",
      "userId": "00461961014179132180"
     },
     "user_tz": -330
    },
    "id": "87ab93f9-a0c2-4869-83c4-0f9d559897f4"
   },
   "outputs": [],
   "source": [
    "import pyttsx3\n",
    "\n",
    "def text_to_speech(text):\n",
    "    engine = pyttsx3.init()\n",
    "    engine.say(text)\n",
    "    engine.runAndWait()\n"
   ]
  },
  {
   "cell_type": "code",
   "execution_count": 3,
   "id": "24b43e03-1e95-47d7-8934-c53ebe68450d",
   "metadata": {
    "colab": {
     "base_uri": "https://localhost:8080/",
     "height": 424
    },
    "executionInfo": {
     "elapsed": 436,
     "status": "error",
     "timestamp": 1715806352659,
     "user": {
      "displayName": "Harshit Raj",
      "userId": "00461961014179132180"
     },
     "user_tz": -330
    },
    "id": "24b43e03-1e95-47d7-8934-c53ebe68450d",
    "outputId": "a8e5a603-2976-4cb9-f317-bffd90fdfd23"
   },
   "outputs": [],
   "source": [
    "text ='''Natural Language Processing (NLP) is a branch of artificial intelligence that deals with the interaction between computers\n",
    "and humans using natural languages. The goal of NLP is to enable computers to understand, interpret, and generate human language in a manner\n",
    "that is valuable and effective.'''\n",
    "text_to_speech(text)"
   ]
  },
  {
   "cell_type": "markdown",
   "id": "2633865e-cbb6-4ad2-8f2e-99e824b94f4b",
   "metadata": {
    "id": "2633865e-cbb6-4ad2-8f2e-99e824b94f4b"
   },
   "source": [
    "# Convert the given  speech to text using in-built model."
   ]
  },
  {
   "cell_type": "code",
   "execution_count": 4,
   "id": "2e17b9d8-3a1f-41e3-9c7d-f8cf9008547f",
   "metadata": {
    "executionInfo": {
     "elapsed": 529,
     "status": "ok",
     "timestamp": 1715807466595,
     "user": {
      "displayName": "Harshit Raj",
      "userId": "00461961014179132180"
     },
     "user_tz": -330
    },
    "id": "2e17b9d8-3a1f-41e3-9c7d-f8cf9008547f"
   },
   "outputs": [],
   "source": [
    "import speech_recognition as sr"
   ]
  },
  {
   "cell_type": "code",
   "execution_count": 5,
   "id": "d627333a-52e2-466f-a9ae-5f175f18dedf",
   "metadata": {
    "executionInfo": {
     "elapsed": 1,
     "status": "ok",
     "timestamp": 1715807483429,
     "user": {
      "displayName": "Harshit Raj",
      "userId": "00461961014179132180"
     },
     "user_tz": -330
    },
    "id": "d627333a-52e2-466f-a9ae-5f175f18dedf"
   },
   "outputs": [],
   "source": [
    "def speech_to_text(audio_file):\n",
    "    recognizer = sr.Recognizer()\n",
    "    \n",
    "    with sr.AudioFile(audio_file) as source:\n",
    "        audio = recognizer.record(source)\n",
    "    try:\n",
    "        text = recognizer.recognize_sphinx(audio)\n",
    "        print(f\"Transcribed text:\")\n",
    "        return text\n",
    "\n",
    "    except sr.UnknownValueError:\n",
    "        print(\"Could not understand audio\")\n",
    "    except sr.RequestError as e:\n",
    "        print(f\"Error: {e}\")"
   ]
  },
  {
   "cell_type": "code",
   "execution_count": 6,
   "id": "bbd4978a-d1c6-4498-8814-fc8f63b9c412",
   "metadata": {
    "colab": {
     "base_uri": "https://localhost:8080/",
     "height": 90
    },
    "executionInfo": {
     "elapsed": 32750,
     "status": "ok",
     "timestamp": 1715807546654,
     "user": {
      "displayName": "Harshit Raj",
      "userId": "00461961014179132180"
     },
     "user_tz": -330
    },
    "id": "bbd4978a-d1c6-4498-8814-fc8f63b9c412",
    "outputId": "30d61629-aa55-4b20-8745-e83fd1094976"
   },
   "outputs": [
    {
     "name": "stdout",
     "output_type": "stream",
     "text": [
      "Transcribed text:\n"
     ]
    },
    {
     "data": {
      "text/plain": [
       "\"the apollo missions were in there and success the apollo missions or a daring success to coney the apollo missions for a daring success won't this one to get out and while we're better welcome to our last generation will go on till they are most duration welcome to our newest generation\""
      ]
     },
     "execution_count": 6,
     "metadata": {},
     "output_type": "execute_result"
    }
   ],
   "source": [
    "audio_file = \"Speech.wav\" \n",
    "speech_to_text(audio_file)"
   ]
  }
 ],
 "metadata": {
  "colab": {
   "provenance": []
  },
  "kernelspec": {
   "display_name": "Python 3 (ipykernel)",
   "language": "python",
   "name": "python3"
  },
  "language_info": {
   "codemirror_mode": {
    "name": "ipython",
    "version": 3
   },
   "file_extension": ".py",
   "mimetype": "text/x-python",
   "name": "python",
   "nbconvert_exporter": "python",
   "pygments_lexer": "ipython3",
   "version": "3.11.7"
  }
 },
 "nbformat": 4,
 "nbformat_minor": 5
}
