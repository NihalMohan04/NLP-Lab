{
 "cells": [
  {
   "cell_type": "code",
   "execution_count": 6,
   "id": "ec3a5b6e",
   "metadata": {},
   "outputs": [
    {
     "data": {
      "text/plain": [
       "'We have often heard that \\x91Cricket is religion in India and Sachin is God\\x92. There is no better statement that can justify the status of Sachin Tendulkar in India. Sachin Tendulkar in India is not just a cricketer, he is God. Also for common people in India, he is an example of hard work and determination. Thus, he is worshipped by everyone in India. The essay on Sachin Tendulkar is a small insight into one of the greatest ever sportsman to have played any game.Sachin Tendulkar was born to a middle-class family and came to limelight with a performance in the school tournament. He held a record partnership at that time with Vinod Kambli playing for their school tournament. That innings changed Sachin\\x92s life completely and he became famous in a fortnight. In those days, the school tournaments had a different fanbase and a good performance can bring you in limelight. Because of that inning, people all over India came to know who Sachin Tendulkar was! Thus, it also caught Indian selector\\x92s eye and Sachin Tendulkar was selected for the tour of Pakistan at an age of 16.'"
      ]
     },
     "execution_count": 6,
     "metadata": {},
     "output_type": "execute_result"
    }
   ],
   "source": [
    "with open('summary.txt',encoding='latin') as f:\n",
    "    text=f.readlines()\n",
    "text=\"\".join(text)\n",
    "text"
   ]
  },
  {
   "cell_type": "code",
   "execution_count": 7,
   "id": "9ba83f1c",
   "metadata": {},
   "outputs": [],
   "source": [
    "text=text.replace(\"\\x91\",\"'\")\n",
    "text=text.replace(\"\\x92\",\"'\")"
   ]
  },
  {
   "cell_type": "code",
   "execution_count": 8,
   "id": "182c2d5d",
   "metadata": {},
   "outputs": [],
   "source": [
    "import spacy\n",
    "from spacy.lang.en.stop_words import STOP_WORDS\n",
    "from string import punctuation"
   ]
  },
  {
   "cell_type": "code",
   "execution_count": 9,
   "id": "b3e70a15",
   "metadata": {},
   "outputs": [],
   "source": [
    "nlp=spacy.load(\"en_core_web_sm\")\n",
    "doc=nlp(text)"
   ]
  },
  {
   "cell_type": "code",
   "execution_count": 17,
   "id": "cc96e637",
   "metadata": {
    "scrolled": true
   },
   "outputs": [
    {
     "name": "stdout",
     "output_type": "stream",
     "text": [
      "{'heard': 1, 'cricket': 1, 'religion': 1, 'india': 6, 'sachin': 8, 'god': 2, 'better': 1, 'statement': 1, 'justify': 1, 'status': 1, 'tendulkar': 6, 'cricketer': 1, 'common': 1, 'people': 2, 'example': 1, 'hard': 1, 'work': 1, 'determination': 1, 'worshipped': 1, 'essay': 1, 'small': 1, 'insight': 1, 'greatest': 1, 'sportsman': 1, 'played': 1, 'game': 1, 'born': 1, 'middle': 1, 'class': 1, 'family': 1, 'came': 2, 'limelight': 2, 'performance': 2, 'school': 3, 'tournament': 2, 'held': 1, 'record': 1, 'partnership': 1, 'time': 1, 'vinod': 1, 'kambli': 1, 'playing': 1, 'innings': 1, 'changed': 1, 'life': 1, 'completely': 1, 'famous': 1, 'fortnight': 1, 'days': 1, 'tournaments': 1, 'different': 1, 'fanbase': 1, 'good': 1, 'bring': 1, 'inning': 1, 'know': 1, 'caught': 1, 'indian': 1, 'selector': 1, 'eye': 1, 'selected': 1, 'tour': 1, 'pakistan': 1, 'age': 1, '16': 1}\n"
     ]
    }
   ],
   "source": [
    "dtc={}\n",
    "for i in doc:\n",
    "    dtc[i.text.lower()] = 0\n",
    "for i in doc:\n",
    "    dtc[i.text.lower()]+=1\n",
    "    \n",
    "sw=STOP_WORDS\n",
    "dtc={i:v for i,v in dtc.items() if i not in sw and i not in punctuation}\n",
    "print(dtc)"
   ]
  },
  {
   "cell_type": "code",
   "execution_count": 11,
   "id": "b5ad2395",
   "metadata": {},
   "outputs": [
    {
     "name": "stdout",
     "output_type": "stream",
     "text": [
      "Max: 8\n"
     ]
    }
   ],
   "source": [
    "max_freq=sorted(dtc.items(),key=lambda x:x[1],reverse=True)[0][1]\n",
    "print(\"Max:\",max_freq)"
   ]
  },
  {
   "cell_type": "markdown",
   "id": "78191aa8",
   "metadata": {},
   "source": [
    "## Normalizing"
   ]
  },
  {
   "cell_type": "code",
   "execution_count": 12,
   "id": "5a9962fa",
   "metadata": {},
   "outputs": [
    {
     "name": "stdout",
     "output_type": "stream",
     "text": [
      "{'heard': 0.125, 'cricket': 0.125, 'religion': 0.125, 'india': 0.75, 'sachin': 1.0, 'god': 0.25, 'better': 0.125, 'statement': 0.125, 'justify': 0.125, 'status': 0.125, 'tendulkar': 0.75, 'cricketer': 0.125, 'common': 0.125, 'people': 0.25, 'example': 0.125, 'hard': 0.125, 'work': 0.125, 'determination': 0.125, 'worshipped': 0.125, 'essay': 0.125, 'small': 0.125, 'insight': 0.125, 'greatest': 0.125, 'sportsman': 0.125, 'played': 0.125, 'game': 0.125, 'born': 0.125, 'middle': 0.125, 'class': 0.125, 'family': 0.125, 'came': 0.25, 'limelight': 0.25, 'performance': 0.25, 'school': 0.375, 'tournament': 0.25, 'held': 0.125, 'record': 0.125, 'partnership': 0.125, 'time': 0.125, 'vinod': 0.125, 'kambli': 0.125, 'playing': 0.125, 'innings': 0.125, 'changed': 0.125, 'life': 0.125, 'completely': 0.125, 'famous': 0.125, 'fortnight': 0.125, 'days': 0.125, 'tournaments': 0.125, 'different': 0.125, 'fanbase': 0.125, 'good': 0.125, 'bring': 0.125, 'inning': 0.125, 'know': 0.125, 'caught': 0.125, 'indian': 0.125, 'selector': 0.125, 'eye': 0.125, 'selected': 0.125, 'tour': 0.125, 'pakistan': 0.125, 'age': 0.125, '16': 0.125}\n"
     ]
    }
   ],
   "source": [
    "for i in dtc.keys():\n",
    "    dtc[i]/=max_freq\n",
    "print(dtc)"
   ]
  },
  {
   "cell_type": "code",
   "execution_count": 13,
   "id": "7d5da7ea",
   "metadata": {
    "scrolled": true
   },
   "outputs": [
    {
     "data": {
      "text/plain": [
       "[We have often heard that 'Cricket is religion in India and Sachin is God'.,\n",
       " There is no better statement that can justify the status of Sachin Tendulkar in India.,\n",
       " Sachin Tendulkar in India is not just a cricketer, he is God.,\n",
       " Also for common people in India, he is an example of hard work and determination.,\n",
       " Thus, he is worshipped by everyone in India.,\n",
       " The essay on Sachin Tendulkar is a small insight into one of the greatest ever sportsman to have played any game.,\n",
       " Sachin Tendulkar was born to a middle-class family and came to limelight with a performance in the school tournament.,\n",
       " He held a record partnership at that time with Vinod Kambli playing for their school tournament.,\n",
       " That innings changed Sachin's life completely and he became famous in a fortnight.,\n",
       " In those days, the school tournaments had a different fanbase and a good performance can bring you in limelight.,\n",
       " Because of that inning, people all over India came to know who Sachin Tendulkar was!,\n",
       " Thus, it also caught Indian selector's eye and Sachin Tendulkar was selected for the tour of Pakistan at an age of 16.]"
      ]
     },
     "execution_count": 13,
     "metadata": {},
     "output_type": "execute_result"
    }
   ],
   "source": [
    "sent_token=[i for i in doc.sents]\n",
    "sent_token"
   ]
  },
  {
   "cell_type": "code",
   "execution_count": 14,
   "id": "16eac5fc",
   "metadata": {},
   "outputs": [
    {
     "data": {
      "text/plain": [
       "{We have often heard that 'Cricket is religion in India and Sachin is God'.: 0.25,\n",
       " There is no better statement that can justify the status of Sachin Tendulkar in India.: 0.5,\n",
       " Sachin Tendulkar in India is not just a cricketer, he is God.: 0.125,\n",
       " Also for common people in India, he is an example of hard work and determination.: 0.875,\n",
       " Thus, he is worshipped by everyone in India.: 0.125,\n",
       " The essay on Sachin Tendulkar is a small insight into one of the greatest ever sportsman to have played any game.: 0.875,\n",
       " Sachin Tendulkar was born to a middle-class family and came to limelight with a performance in the school tournament.: 1.875,\n",
       " He held a record partnership at that time with Vinod Kambli playing for their school tournament.: 1.25,\n",
       " That innings changed Sachin's life completely and he became famous in a fortnight.: 0.75,\n",
       " In those days, the school tournaments had a different fanbase and a good performance can bring you in limelight.: 1.625,\n",
       " Because of that inning, people all over India came to know who Sachin Tendulkar was!: 0.75,\n",
       " Thus, it also caught Indian selector's eye and Sachin Tendulkar was selected for the tour of Pakistan at an age of 16.: 0.875}"
      ]
     },
     "execution_count": 14,
     "metadata": {},
     "output_type": "execute_result"
    }
   ],
   "source": [
    "score={}\n",
    "for sent in sent_token:\n",
    "    score[sent]=0\n",
    "for sent in sent_token:\n",
    "    for word in sent:\n",
    "        if word.text in dtc.keys():\n",
    "            score[sent]+=dtc[word.text]\n",
    "            \n",
    "score"
   ]
  },
  {
   "cell_type": "code",
   "execution_count": 15,
   "id": "aabe5ef6",
   "metadata": {
    "scrolled": true
   },
   "outputs": [
    {
     "data": {
      "text/plain": [
       "3.5999999999999996"
      ]
     },
     "execution_count": 15,
     "metadata": {},
     "output_type": "execute_result"
    }
   ],
   "source": [
    "from heapq import nlargest\n",
    "len(score)*.3"
   ]
  },
  {
   "cell_type": "code",
   "execution_count": 16,
   "id": "83101ebb",
   "metadata": {},
   "outputs": [
    {
     "name": "stdout",
     "output_type": "stream",
     "text": [
      "summarized Doc: [Sachin Tendulkar was born to a middle-class family and came to limelight with a performance in the school tournament., In those days, the school tournaments had a different fanbase and a good performance can bring you in limelight., He held a record partnership at that time with Vinod Kambli playing for their school tournament., Also for common people in India, he is an example of hard work and determination.]\n"
     ]
    }
   ],
   "source": [
    "summary=nlargest(n=4,iterable=score, key=score.get)\n",
    "print(\"summarized Doc:\",summary)"
   ]
  },
  {
   "cell_type": "code",
   "execution_count": null,
   "id": "a909866f",
   "metadata": {},
   "outputs": [],
   "source": []
  },
  {
   "cell_type": "code",
   "execution_count": null,
   "id": "5bcec6d4-f034-4945-a5dc-d61764d6a4ed",
   "metadata": {},
   "outputs": [],
   "source": []
  }
 ],
 "metadata": {
  "kernelspec": {
   "display_name": "Python 3 (ipykernel)",
   "language": "python",
   "name": "python3"
  },
  "language_info": {
   "codemirror_mode": {
    "name": "ipython",
    "version": 3
   },
   "file_extension": ".py",
   "mimetype": "text/x-python",
   "name": "python",
   "nbconvert_exporter": "python",
   "pygments_lexer": "ipython3",
   "version": "3.11.7"
  }
 },
 "nbformat": 4,
 "nbformat_minor": 5
}
