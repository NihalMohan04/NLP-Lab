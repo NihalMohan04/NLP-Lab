{
 "cells": [
  {
   "cell_type": "markdown",
   "metadata": {
    "id": "tfa3sgvkk39M"
   },
   "source": [
    "# Stop words operations on email dataset using Spacy, gensim and NLTK"
   ]
  },
  {
   "cell_type": "code",
   "execution_count": 4,
   "metadata": {
    "id": "cYREH7nqk39R",
    "outputId": "6be32634-5730-4e13-c237-19e5cc3ad267"
   },
   "outputs": [
    {
     "data": {
      "text/html": [
       "<div>\n",
       "<style scoped>\n",
       "    .dataframe tbody tr th:only-of-type {\n",
       "        vertical-align: middle;\n",
       "    }\n",
       "\n",
       "    .dataframe tbody tr th {\n",
       "        vertical-align: top;\n",
       "    }\n",
       "\n",
       "    .dataframe thead th {\n",
       "        text-align: right;\n",
       "    }\n",
       "</style>\n",
       "<table border=\"1\" class=\"dataframe\">\n",
       "  <thead>\n",
       "    <tr style=\"text-align: right;\">\n",
       "      <th></th>\n",
       "      <th>text</th>\n",
       "      <th>spam</th>\n",
       "    </tr>\n",
       "  </thead>\n",
       "  <tbody>\n",
       "    <tr>\n",
       "      <th>0</th>\n",
       "      <td>Subject: naturally it's your irresistible your...</td>\n",
       "      <td>1</td>\n",
       "    </tr>\n",
       "    <tr>\n",
       "      <th>1</th>\n",
       "      <td>Subject: the stock trading gunslinger  fanny i...</td>\n",
       "      <td>1</td>\n",
       "    </tr>\n",
       "    <tr>\n",
       "      <th>2</th>\n",
       "      <td>Subject: unbelievable new homes made easy  im ...</td>\n",
       "      <td>1</td>\n",
       "    </tr>\n",
       "    <tr>\n",
       "      <th>3</th>\n",
       "      <td>Subject: 4 color printing special  request add...</td>\n",
       "      <td>1</td>\n",
       "    </tr>\n",
       "    <tr>\n",
       "      <th>4</th>\n",
       "      <td>Subject: do not have money , get software cds ...</td>\n",
       "      <td>1</td>\n",
       "    </tr>\n",
       "  </tbody>\n",
       "</table>\n",
       "</div>"
      ],
      "text/plain": [
       "                                                text spam\n",
       "0  Subject: naturally it's your irresistible your...    1\n",
       "1  Subject: the stock trading gunslinger  fanny i...    1\n",
       "2  Subject: unbelievable new homes made easy  im ...    1\n",
       "3  Subject: 4 color printing special  request add...    1\n",
       "4  Subject: do not have money , get software cds ...    1"
      ]
     },
     "execution_count": 4,
     "metadata": {},
     "output_type": "execute_result"
    }
   ],
   "source": [
    "import pandas as pd\n",
    "data = pd.read_csv('emails.csv', usecols=['text', 'spam'])\n",
    "data.head()"
   ]
  },
  {
   "cell_type": "markdown",
   "metadata": {
    "id": "bgfcuedsk39U"
   },
   "source": [
    "## Using Spacy"
   ]
  },
  {
   "cell_type": "markdown",
   "metadata": {
    "id": "99pKdV7qk39U"
   },
   "source": [
    "### 1. Display existing Stopwords"
   ]
  },
  {
   "cell_type": "code",
   "execution_count": 5,
   "metadata": {
    "id": "xdHim1Eyk39V",
    "outputId": "81309b69-80fb-4f3a-b8da-f48ada628da2",
    "scrolled": true
   },
   "outputs": [
    {
     "name": "stdout",
     "output_type": "stream",
     "text": [
      "{'a', 'onto', 'thru', 'whenever', 'rather', 'only', 'hereby', 'fifteen', 'seems', 'since', 'above', 'were', '‘m', 'hereupon', 'really', 'then', 'here', 'them', 'an', 'name', 'latter', 'last', 'move', \"'ve\", 'anything', 'is', 'very', 'towards', 'least', 'perhaps', 'often', 'yourselves', 'she', 'us', \"'m\", 'anyhow', 'itself', 'alone', 'again', 'below', 'never', 'others', 'upon', 'via', 'how', 'whereby', 'hers', 'whole', 'still', 'eight', 'during', 'nowhere', 'anywhere', 'third', 'seemed', 'against', 'himself', 'own', 'otherwise', 'always', 'due', 'else', 'my', 'latterly', 'show', 'will', 'except', \"'ll\", 'every', 'he', 'therein', 'whom', 'yet', 'twenty', 'none', 'about', 'amount', 'become', 'might', 'though', 'their', 'must', \"'re\", 'all', 'take', 'same', 'being', 'yourself', '‘re', 'her', 'twelve', 'within', 'noone', 'something', 'whether', 'between', 'side', 'therefore', 'nor', 'n‘t', 'nine', 'another', 'no', 'they', 'over', 'such', 'your', 'whence', 'either', 'each', 'make', 'him', 'mine', 'under', 'where', 'toward', 'first', 'into', 'few', 'serious', '’d', 'out', 'yours', 'throughout', \"'d\", 'one', 'ourselves', '’ve', 'part', 'whatever', 'elsewhere', 'now', 'thereafter', 'until', 'formerly', 'so', '’m', 'just', 'put', 'could', 'also', 'someone', 'enough', 'namely', '‘s', '’s', 'see', 'among', 'quite', 'front', 'when', 'by', 'becomes', 'those', 'for', 'thereupon', 'used', 'to', 'cannot', 'becoming', 'bottom', 'other', 'n’t', 'should', 'please', 'whither', 'ours', 'anyway', 'various', 'hundred', 'go', 'from', 'but', 'whereupon', 'whoever', 'former', 'nothing', 'while', 'everyone', 'up', 'why', 'had', 'off', 'many', 'around', 'in', 'behind', 'regarding', 'say', 'five', 'most', 'afterwards', 'almost', 'herself', 'not', 'any', 'would', 'do', 'its', 'meanwhile', 'besides', 'through', 'empty', 'some', 'eleven', 'six', 'on', 'however', 'top', 'these', 'whereafter', 'wherein', 'much', 'amongst', 'sixty', 'because', 'as', 'ten', 'than', 'next', 'call', 'beside', 'beyond', 'fifty', 'thereby', 'hereafter', 'you', 'was', '‘ve', 'well', 'further', 'which', 'his', 'thus', 'anyone', 'done', 'me', 'less', 'across', 'have', 'myself', 'there', 'what', 'neither', 'wherever', 'along', 'nobody', 'ever', 'full', 'i', 'did', 'mostly', 'we', '’ll', 'whereas', 'after', 'this', 'forty', 'can', 'be', 'once', '‘d', 'it', 'several', '’re', 'at', 'seem', 'without', \"'s\", 'our', 'with', 'give', 'if', 'whose', \"n't\", 'the', 'per', 'doing', 'or', 'back', 'hence', 'sometime', 'both', 'somewhere', 'has', 'already', '‘ll', 'moreover', 're', 'am', 'of', 'that', 'together', 'too', 'before', 'somehow', 'indeed', 'get', 'everywhere', 'even', 'and', 'herein', 'everything', 'more', 'using', 'made', 'three', 'sometimes', 'beforehand', 'nevertheless', 'down', 'seeming', 'been', 'keep', 'ca', 'may', 'two', 'themselves', 'although', 'are', 'unless', 'who', 'four', 'thence', 'became', 'does'}\n"
     ]
    }
   ],
   "source": [
    "import spacy\n",
    "nlp = spacy.load('en_core_web_sm')\n",
    "all_stopwords = nlp.Defaults.stop_words\n",
    "print(all_stopwords)"
   ]
  },
  {
   "cell_type": "markdown",
   "metadata": {
    "id": "q46Chk46k39V"
   },
   "source": [
    "### 2. Removing Stopwords"
   ]
  },
  {
   "cell_type": "code",
   "execution_count": 6,
   "metadata": {
    "id": "7k9fhNHxk39V",
    "outputId": "76a35f63-ea80-45f7-aca9-5a7e30301881",
    "scrolled": true
   },
   "outputs": [
    {
     "name": "stdout",
     "output_type": "stream",
     "text": [
      "{'a', 'onto', 'thru', 'whenever', 'rather', 'only', 'hereby', 'fifteen', 'seems', 'since', 'above', 'were', '‘m', 'hereupon', 'really', 'then', 'here', 'them', 'an', 'name', 'latter', 'last', 'move', \"'ve\", 'anything', 'is', 'very', 'towards', 'least', 'perhaps', 'often', 'yourselves', 'she', 'us', \"'m\", 'anyhow', 'itself', 'alone', 'again', 'below', 'never', 'others', 'upon', 'via', 'how', 'whereby', 'hers', 'whole', 'still', 'eight', 'during', 'nowhere', 'anywhere', 'third', 'seemed', 'against', 'himself', 'own', 'otherwise', 'always', 'due', 'else', 'my', 'latterly', 'show', 'except', \"'ll\", 'every', 'he', 'therein', 'whom', 'yet', 'twenty', 'none', 'about', 'amount', 'become', 'might', 'though', 'their', 'must', \"'re\", 'all', 'take', 'same', 'being', 'yourself', '‘re', 'her', 'twelve', 'within', 'noone', 'something', 'whether', 'between', 'side', 'therefore', 'nor', 'n‘t', 'nine', 'another', 'no', 'they', 'over', 'such', 'your', 'whence', 'either', 'each', 'make', 'him', 'mine', 'under', 'where', 'toward', 'first', 'into', 'few', 'serious', '’d', 'out', 'yours', 'throughout', \"'d\", 'one', 'ourselves', '’ve', 'part', 'whatever', 'elsewhere', 'now', 'thereafter', 'until', 'formerly', 'so', '’m', 'just', 'put', 'could', 'also', 'someone', 'enough', 'namely', '‘s', '’s', 'see', 'among', 'quite', 'front', 'when', 'by', 'becomes', 'those', 'for', 'thereupon', 'used', 'to', 'cannot', 'becoming', 'bottom', 'other', 'n’t', 'should', 'please', 'whither', 'ours', 'anyway', 'various', 'hundred', 'go', 'from', 'but', 'whereupon', 'whoever', 'former', 'nothing', 'while', 'everyone', 'up', 'why', 'had', 'off', 'many', 'around', 'in', 'behind', 'regarding', 'say', 'five', 'most', 'afterwards', 'almost', 'herself', 'not', 'any', 'would', 'do', 'its', 'meanwhile', 'besides', 'through', 'empty', 'some', 'eleven', 'six', 'on', 'however', 'top', 'these', 'whereafter', 'wherein', 'much', 'amongst', 'sixty', 'because', 'as', 'ten', 'than', 'next', 'call', 'beside', 'beyond', 'fifty', 'thereby', 'hereafter', 'you', 'was', '‘ve', 'well', 'further', 'which', 'his', 'thus', 'anyone', 'done', 'me', 'less', 'across', 'have', 'myself', 'there', 'what', 'neither', 'wherever', 'along', 'nobody', 'ever', 'full', 'i', 'did', 'mostly', 'we', '’ll', 'whereas', 'after', 'this', 'forty', 'can', 'be', 'once', '‘d', 'it', 'several', '’re', 'at', 'seem', 'without', \"'s\", 'our', 'with', 'give', 'if', 'whose', \"n't\", 'the', 'per', 'doing', 'or', 'back', 'hence', 'sometime', 'both', 'somewhere', 'has', 'already', '‘ll', 'moreover', 're', 'am', 'of', 'that', 'together', 'too', 'before', 'somehow', 'indeed', 'get', 'everywhere', 'even', 'and', 'herein', 'everything', 'more', 'using', 'made', 'three', 'sometimes', 'beforehand', 'nevertheless', 'down', 'seeming', 'been', 'keep', 'ca', 'may', 'two', 'themselves', 'although', 'are', 'unless', 'who', 'four', 'thence', 'became', 'does'}\n"
     ]
    }
   ],
   "source": [
    "all_stopwords.remove('will')\n",
    "print(all_stopwords)"
   ]
  },
  {
   "cell_type": "markdown",
   "metadata": {
    "id": "tqaU964Ck39W"
   },
   "source": [
    "### 3. Adding Stopwords"
   ]
  },
  {
   "cell_type": "code",
   "execution_count": 7,
   "metadata": {
    "id": "YcO78hrrk39W",
    "outputId": "ffd32d8f-b224-4a6d-f711-0f2a7b095554",
    "scrolled": true
   },
   "outputs": [
    {
     "name": "stdout",
     "output_type": "stream",
     "text": [
      "{'a', 'onto', 'thru', 'whenever', 'rather', 'only', 'hereby', 'fifteen', 'seems', 'since', 'above', 'were', '‘m', 'hereupon', 'really', 'then', 'here', 'them', 'an', 'name', 'latter', 'last', 'move', \"'ve\", 'anything', 'is', 'very', 'towards', 'least', 'perhaps', 'often', 'yourselves', 'she', 'us', \"'m\", 'anyhow', 'itself', 'alone', 'again', 'below', 'naturally', 'never', 'others', 'upon', 'via', 'how', 'whereby', 'hers', 'whole', 'still', 'eight', 'during', 'nowhere', 'anywhere', 'third', 'seemed', 'against', 'himself', 'own', 'otherwise', 'always', 'due', 'else', 'my', 'latterly', 'show', 'except', \"'ll\", 'every', 'he', 'therein', 'whom', 'yet', 'twenty', 'none', 'about', 'amount', 'become', 'might', 'though', 'their', 'must', \"'re\", 'all', 'take', 'same', 'being', 'yourself', '‘re', 'her', 'twelve', 'within', 'noone', 'something', 'whether', 'between', 'side', 'therefore', 'nor', 'n‘t', 'nine', 'another', 'no', 'they', 'over', 'such', 'your', 'whence', 'either', 'each', 'make', 'him', 'mine', 'under', 'where', 'toward', 'first', 'into', 'few', 'serious', '’d', 'out', 'yours', 'throughout', \"'d\", 'one', 'ourselves', '’ve', 'part', 'whatever', 'elsewhere', 'now', 'thereafter', 'until', 'formerly', 'so', '’m', 'just', 'put', 'could', 'also', 'someone', 'enough', 'namely', '‘s', '’s', 'see', 'among', 'quite', 'front', 'when', 'by', 'becomes', 'those', 'for', 'thereupon', 'used', 'to', 'cannot', 'becoming', 'bottom', 'other', 'n’t', 'should', 'please', 'whither', 'ours', 'anyway', 'various', 'hundred', 'go', 'from', 'but', 'whereupon', 'whoever', 'former', 'nothing', 'while', 'everyone', 'up', 'why', 'had', 'off', 'many', 'around', 'in', 'behind', 'regarding', 'say', 'five', 'most', 'afterwards', 'almost', 'herself', 'not', 'any', 'would', 'do', 'its', 'meanwhile', 'besides', 'through', 'empty', 'some', 'eleven', 'six', 'on', 'however', 'top', 'these', 'whereafter', 'wherein', 'much', 'amongst', 'sixty', 'because', 'as', 'ten', 'than', 'next', 'call', 'beside', 'beyond', 'fifty', 'thereby', 'hereafter', 'you', 'was', '‘ve', 'well', 'further', 'which', 'his', 'thus', 'anyone', 'done', 'me', 'less', 'across', 'have', 'myself', 'there', 'what', 'company', 'neither', 'wherever', 'along', 'nobody', 'ever', 'full', 'i', 'did', 'mostly', 'we', '’ll', 'whereas', 'after', 'this', 'forty', 'can', 'be', 'once', '‘d', 'it', 'several', '’re', 'at', 'seem', 'without', \"'s\", 'our', 'with', 'give', 'if', 'whose', \"n't\", 'the', 'per', 'doing', 'or', 'back', 'hence', 'sometime', 'both', 'somewhere', 'has', 'already', '‘ll', 'moreover', 're', 'am', 'of', 'that', 'together', 'too', 'before', 'somehow', 'indeed', 'get', 'everywhere', 'even', 'and', 'herein', 'everything', 'more', 'using', 'made', 'three', 'sometimes', 'beforehand', 'nevertheless', 'down', 'seeming', 'been', 'keep', 'ca', 'may', 'two', 'themselves', 'although', 'are', 'unless', 'who', 'four', 'thence', 'became', 'does'}\n"
     ]
    }
   ],
   "source": [
    "all_stopwords.add('naturally')\n",
    "all_stopwords.add('company')\n",
    "print(all_stopwords)"
   ]
  },
  {
   "cell_type": "markdown",
   "metadata": {
    "id": "P6g-nZvak39X"
   },
   "source": [
    "### 4. Stopword Elimination"
   ]
  },
  {
   "cell_type": "code",
   "execution_count": 8,
   "metadata": {
    "id": "MMlmyLK0k39X",
    "outputId": "05a34620-7f3e-4a59-9b0c-48881dfe8a36"
   },
   "outputs": [
    {
     "data": {
      "text/plain": [
       "\"Subject: naturally it's your irresistible your corporate identity  lt is really hard to recollect a company : the  market is full of suqgestions and the information isoverwhelminq ; but a good  catchy logo , stylish statlonery and outstanding website  will make the task much easier .  we don't promise that havinq ordered a iogo your  company will automaticaily become a world ieader : it isguite ciear that  without good products , effective business organization and practicable aim it  will be hotat nowadays market ; but we do promise that your marketing efforts  will become much more effective . here is the list of clear  benefits : creativeness : hand - made , original logos , specially done  to reflect your distinctive company image . convenience : logo and stationery  are provided in all formats ; easy - to - use content management system letsyou  change your website content and even its structure . promptness : you'll see logo drafts within three business days . affordability : your  marketing break - through shouldn't make gaps in your budget . 100 % satisfaction  guaranteed : we provide unlimited amount of changes with no extra fees for you to  be surethat you will love the result of this collaboration . have a look at our  portfolio _ _ _ _ _ _ _ _ _ _ _ _ _ _ _ _ _ _ _ _ _ _ _ _ _ _ _ _ _ _ _ _ _ _ _ _ _ _ _ _ _ _ _ _ _ _ _ _ _ _ _ _ not interested . . . _ _ _ _ _ _ _ _ _ _ _ _ _ _ _ _ _ _ _ _ _ _ _ _ _ _ _ _ _ _ _ _ _ _ _ _ _ _ _ _ _ _ _ _ _ _ _ _ _ _ _ _\""
      ]
     },
     "execution_count": 8,
     "metadata": {},
     "output_type": "execute_result"
    }
   ],
   "source": [
    "#getting the text\n",
    "Text=data['text'][0]\n",
    "Text"
   ]
  },
  {
   "cell_type": "code",
   "execution_count": 11,
   "metadata": {
    "id": "jddj4_ZAk39X",
    "outputId": "afe40033-dccb-4f98-fded-a8c2da682828"
   },
   "outputs": [
    {
     "name": "stdout",
     "output_type": "stream",
     "text": [
      "Subject : irresistible corporate identity   lt hard recollect :   market suqgestions information isoverwhelminq ; good   catchy logo , stylish statlonery outstanding website   will task easier .   promise havinq ordered iogo   will automaticaily world ieader : isguite ciear   good products , effective business organization practicable aim   will hotat nowadays market ; promise marketing efforts   will effective . list clear   benefits : creativeness : hand - , original logos , specially   reflect distinctive image . convenience : logo stationery   provided formats ; easy - - use content management system letsyou   change website content structure . promptness : logo drafts business days . affordability :   marketing break - gaps budget . 100 % satisfaction   guaranteed : provide unlimited changes extra fees   surethat will love result collaboration . look   portfolio _ _ _ _ _ _ _ _ _ _ _ _ _ _ _ _ _ _ _ _ _ _ _ _ _ _ _ _ _ _ _ _ _ _ _ _ _ _ _ _ _ _ _ _ _ _ _ _ _ _ _ _ interested . . . _ _ _ _ _ _ _ _ _ _ _ _ _ _ _ _ _ _ _ _ _ _ _ _ _ _ _ _ _ _ _ _ _ _ _ _ _ _ _ _ _ _ _ _ _ _ _ _ _ _ _ _\n"
     ]
    }
   ],
   "source": [
    "doc=nlp(Text)\n",
    "text2 = [i.text for i in doc if i.text not in all_stopwords]\n",
    "print(' '.join(text2))"
   ]
  },
  {
   "cell_type": "markdown",
   "metadata": {
    "id": "E8M4tGl5k39Y"
   },
   "source": [
    "## Using Gensim"
   ]
  },
  {
   "cell_type": "code",
   "execution_count": 8,
   "metadata": {
    "id": "xJ4Je5Dbk39Y"
   },
   "outputs": [],
   "source": [
    "import gensim"
   ]
  },
  {
   "cell_type": "code",
   "execution_count": 9,
   "metadata": {
    "id": "dI7nUTSGk39Y"
   },
   "outputs": [],
   "source": [
    "all_stopwords=gensim.parsing.preprocessing.STOPWORDS"
   ]
  },
  {
   "cell_type": "markdown",
   "metadata": {
    "id": "Zjl9ehQtk39Y"
   },
   "source": [
    "### 1. Show all stopwords"
   ]
  },
  {
   "cell_type": "code",
   "execution_count": 10,
   "metadata": {
    "id": "rwHhSzbwk39Y",
    "outputId": "179cb8b3-cf25-48b6-ba46-acf7edda9769",
    "scrolled": true
   },
   "outputs": [
    {
     "name": "stdout",
     "output_type": "stream",
     "text": [
      "frozenset({'hundred', 'has', 'am', 'something', 'last', 'would', 'myself', 'they', 'other', 'thereupon', 'thin', 'only', 'kg', 'with', 'amongst', 'yet', 'also', 'so', 'if', 'find', 'namely', 'everything', 'can', 'her', 'them', 'him', 'wherein', 'are', 'eight', 'interest', 'per', 'become', 'due', 'two', 'somewhere', 'whoever', 'were', 'name', 're', 'whatever', 'top', 'else', 'now', 'anyway', 'con', 'because', 'which', 'just', 'that', 'nine', 'everywhere', 'sometimes', 'out', 'less', 'all', 'these', 'no', 'such', 'was', 'but', 'very', 'toward', 'not', 'ours', 'since', 'make', 'how', 'elsewhere', 'whom', 'besides', 'herein', 'fifty', 'part', 'cannot', 'by', 'detail', 'whereas', 'the', 'this', 'forty', 'under', 'hereupon', 'anyone', 'six', 'indeed', 'itself', 'empty', 'various', 'thence', 'well', 'same', 'thus', 'about', 'did', 'there', 'nowhere', 'whereby', 'move', 'both', 'his', 'ltd', 'in', 'ever', 'themselves', 'using', 'along', 'those', 'more', 'whereupon', 'sometime', 'yourself', 'keep', 'third', 'once', 'serious', 'whether', 'still', 'get', 'put', 'from', 'she', 'seemed', 'could', 'thru', 'go', 'nor', 'must', 'therein', 'before', 'throughout', 'almost', 'it', 'call', 'upon', 'always', 'whose', 'noone', 'front', 'full', 'alone', 'fifteen', 'amount', 'co', 'sincere', 'off', 'might', 'mill', 'twenty', 'back', 'whence', 'used', 'none', 'anything', 'after', 'several', 'side', 'becoming', 'sixty', 'yours', 'through', 'ie', 'though', 'describe', 'what', 'at', 'mostly', 'whole', 'again', 'doesn', 'your', 'already', 'then', 'few', 'herself', 'everyone', 'nobody', 'unless', 'hasnt', 'cry', 'de', 'most', 'towards', 'etc', 'first', 'latterly', 'do', 'than', 'seems', 'into', 'four', 'un', 'down', 'former', 'had', 'moreover', 'rather', 'too', 'fill', 'quite', 'thereafter', 'its', 'next', 'fire', 'i', 'yourselves', 'of', 'been', 'cant', 'becomes', 'hereafter', 'say', 'any', 'thick', 'someone', 'except', 'each', 'further', 'onto', 'either', 'wherever', 'hers', 'found', 'until', 'one', 'as', 'their', 'formerly', 'be', 'whenever', 'hereby', 'without', 'will', 'who', 'never', 'thereby', 'show', 'is', 'between', 'behind', 'became', 'may', 'give', 'anyhow', 'hence', 'system', 'beside', 'ourselves', 'five', 'he', 'really', 'for', 'three', 'whereafter', 'over', 'beyond', 'bottom', 'enough', 'together', 'amoungst', 'around', 'to', 'another', 'every', 'often', 'on', 'twelve', 'some', 'a', 'eg', 'afterwards', 'don', 'or', 'you', 'and', 'meanwhile', 'neither', 'via', 'where', 'being', 'doing', 'inc', 'should', 'why', 'regarding', 'across', 'us', 'nothing', 'didn', 'somehow', 'made', 'among', 'my', 'mine', 'we', 'while', 'however', 'others', 'computer', 'eleven', 'perhaps', 'up', 'although', 'himself', 'latter', 'have', 'ten', 'nevertheless', 'done', 'take', 'within', 'when', 'does', 'seem', 'please', 'me', 'here', 'therefore', 'above', 'otherwise', 'below', 'beforehand', 'km', 'bill', 'couldnt', 'much', 'whither', 'our', 'seeming', 'many', 'least', 'own', 'against', 'see', 'even', 'anywhere', 'during', 'an'})\n"
     ]
    }
   ],
   "source": [
    "print(all_stopwords)"
   ]
  },
  {
   "cell_type": "markdown",
   "metadata": {
    "id": "6HvBYVBGk39Z"
   },
   "source": [
    "### 2. Adding Stopwords"
   ]
  },
  {
   "cell_type": "code",
   "execution_count": 11,
   "metadata": {
    "id": "ghml1ummk39Z",
    "outputId": "74016576-0914-4aaf-e98a-fd17bcee7975",
    "scrolled": true
   },
   "outputs": [
    {
     "name": "stdout",
     "output_type": "stream",
     "text": [
      "frozenset({'hundred', 'cry', 'de', 'has', 'am', 'something', 'most', 'towards', 'last', 'etc', 'first', 'latterly', 'would', 'do', 'myself', 'than', 'seems', 'they', 'into', 'four', 'un', 'other', 'thereupon', 'thin', 'down', 'former', 'only', 'kg', 'with', 'amongst', 'yet', 'had', 'naturally', 'also', 'so', 'if', 'find', 'moreover', 'namely', 'everything', 'can', 'her', 'rather', 'too', 'them', 'him', 'wherein', 'are', 'eight', 'interest', 'per', 'become', 'company', 'due', 'fill', 'two', 'quite', 'somewhere', 'thereafter', 'its', 'next', 'fire', 'whoever', 'were', 'i', 'yourselves', 'name', 're', 'of', 'whatever', 'top', 'else', 'now', 'anyway', 'con', 'because', 'which', 'just', 'that', 'been', 'nine', 'cant', 'everywhere', 'sometimes', 'becomes', 'hereafter', 'out', 'say', 'less', 'all', 'any', 'these', 'thick', 'someone', 'except', 'each', 'no', 'such', 'was', 'but', 'very', 'toward', 'not', 'further', 'onto', 'ours', 'since', 'either', 'wherever', 'hers', 'make', 'how', 'elsewhere', 'found', 'whom', 'besides', 'herein', 'fifty', 'until', 'one', 'as', 'their', 'part', 'cannot', 'by', 'formerly', 'detail', 'whereas', 'be', 'whenever', 'hereby', 'the', 'this', 'forty', 'without', 'under', 'hereupon', 'anyone', 'will', 'six', 'who', 'never', 'thereby', 'indeed', 'show', 'is', 'between', 'behind', 'itself', 'empty', 'became', 'may', 'various', 'thence', 'well', 'give', 'anyhow', 'hence', 'same', 'thus', 'system', 'about', 'did', 'beside', 'ourselves', 'five', 'there', 'nowhere', 'whereby', 'he', 'move', 'both', 'really', 'for', 'his', 'three', 'ltd', 'whereafter', 'in', 'ever', 'over', 'beyond', 'themselves', 'bottom', 'using', 'enough', 'together', 'amoungst', 'around', 'to', 'another', 'every', 'along', 'often', 'those', 'more', 'whereupon', 'sometime', 'on', 'yourself', 'twelve', 'some', 'a', 'eg', 'keep', 'third', 'afterwards', 'don', 'once', 'serious', 'or', 'you', 'whether', 'still', 'and', 'get', 'put', 'from', 'she', 'meanwhile', 'seemed', 'could', 'neither', 'thru', 'via', 'where', 'being', 'doing', 'inc', 'should', 'go', 'why', 'nor', 'regarding', 'must', 'therein', 'across', 'us', 'nothing', 'didn', 'before', 'somehow', 'made', 'among', 'throughout', 'almost', 'my', 'mine', 'we', 'while', 'it', 'however', 'others', 'computer', 'call', 'upon', 'eleven', 'perhaps', 'up', 'always', 'whose', 'noone', 'although', 'front', 'full', 'himself', 'alone', 'latter', 'fifteen', 'have', 'amount', 'co', 'ten', 'sincere', 'off', 'might', 'mill', 'nevertheless', 'twenty', 'back', 'done', 'take', 'within', 'whence', 'when', 'does', 'used', 'seem', 'please', 'none', 'anything', 'me', 'here', 'after', 'several', 'therefore', 'side', 'becoming', 'above', 'otherwise', 'below', 'sixty', 'yours', 'through', 'beforehand', 'km', 'ie', 'though', 'describe', 'bill', 'couldnt', 'much', 'what', 'at', 'whither', 'our', 'seeming', 'mostly', 'whole', 'many', 'least', 'own', 'again', 'doesn', 'against', 'see', 'your', 'already', 'even', 'then', 'anywhere', 'few', 'during', 'an', 'herself', 'everyone', 'nobody', 'unless', 'hasnt'})\n"
     ]
    }
   ],
   "source": [
    "all_stopwords_gensim=all_stopwords.union(set(['naturally','company']))\n",
    "print(all_stopwords_gensim)"
   ]
  },
  {
   "cell_type": "markdown",
   "metadata": {
    "id": "5Kv0IoOdk39Z"
   },
   "source": [
    "### 3. Removing Stopwords"
   ]
  },
  {
   "cell_type": "code",
   "execution_count": 12,
   "metadata": {
    "id": "T5pAhPvPk39Z",
    "outputId": "f2131856-7dd0-42c4-f6e8-a8f736f0ed96",
    "scrolled": true
   },
   "outputs": [
    {
     "name": "stdout",
     "output_type": "stream",
     "text": [
      "frozenset({'hundred', 'cry', 'de', 'has', 'am', 'something', 'most', 'towards', 'last', 'etc', 'first', 'latterly', 'would', 'do', 'myself', 'than', 'seems', 'they', 'into', 'four', 'un', 'other', 'thereupon', 'thin', 'down', 'former', 'only', 'kg', 'with', 'amongst', 'yet', 'had', 'naturally', 'also', 'so', 'if', 'find', 'moreover', 'namely', 'everything', 'can', 'her', 'rather', 'too', 'them', 'him', 'wherein', 'are', 'eight', 'interest', 'per', 'become', 'company', 'due', 'fill', 'two', 'quite', 'somewhere', 'thereafter', 'its', 'next', 'fire', 'whoever', 'were', 'i', 'yourselves', 'name', 're', 'of', 'whatever', 'top', 'else', 'now', 'anyway', 'con', 'because', 'which', 'just', 'that', 'been', 'nine', 'cant', 'everywhere', 'sometimes', 'becomes', 'hereafter', 'out', 'say', 'less', 'all', 'any', 'these', 'thick', 'someone', 'except', 'each', 'no', 'such', 'was', 'but', 'very', 'toward', 'not', 'further', 'onto', 'ours', 'since', 'either', 'wherever', 'hers', 'make', 'how', 'elsewhere', 'found', 'whom', 'besides', 'herein', 'fifty', 'until', 'one', 'as', 'their', 'part', 'cannot', 'by', 'formerly', 'detail', 'whereas', 'be', 'whenever', 'hereby', 'the', 'this', 'forty', 'without', 'under', 'hereupon', 'anyone', 'will', 'six', 'who', 'never', 'thereby', 'indeed', 'show', 'is', 'between', 'behind', 'itself', 'empty', 'became', 'may', 'various', 'thence', 'well', 'give', 'anyhow', 'hence', 'same', 'thus', 'system', 'about', 'did', 'beside', 'ourselves', 'five', 'there', 'nowhere', 'whereby', 'he', 'move', 'both', 'really', 'for', 'his', 'three', 'ltd', 'whereafter', 'in', 'ever', 'over', 'beyond', 'themselves', 'bottom', 'using', 'enough', 'together', 'amoungst', 'around', 'to', 'another', 'every', 'along', 'often', 'those', 'more', 'whereupon', 'sometime', 'on', 'yourself', 'twelve', 'some', 'eg', 'keep', 'third', 'afterwards', 'don', 'once', 'serious', 'or', 'you', 'whether', 'still', 'and', 'get', 'put', 'from', 'she', 'meanwhile', 'seemed', 'could', 'neither', 'thru', 'via', 'where', 'being', 'doing', 'inc', 'should', 'go', 'why', 'nor', 'regarding', 'must', 'therein', 'across', 'us', 'nothing', 'didn', 'before', 'somehow', 'made', 'among', 'throughout', 'almost', 'my', 'mine', 'we', 'while', 'it', 'however', 'others', 'computer', 'call', 'upon', 'eleven', 'perhaps', 'up', 'always', 'whose', 'noone', 'although', 'front', 'full', 'himself', 'alone', 'latter', 'fifteen', 'have', 'amount', 'co', 'ten', 'sincere', 'off', 'might', 'mill', 'nevertheless', 'twenty', 'back', 'done', 'take', 'within', 'whence', 'when', 'does', 'used', 'seem', 'please', 'none', 'anything', 'me', 'here', 'after', 'several', 'therefore', 'side', 'becoming', 'above', 'otherwise', 'below', 'sixty', 'yours', 'through', 'beforehand', 'km', 'ie', 'though', 'describe', 'bill', 'couldnt', 'much', 'what', 'at', 'whither', 'our', 'seeming', 'mostly', 'whole', 'many', 'least', 'own', 'again', 'doesn', 'against', 'see', 'your', 'already', 'even', 'then', 'anywhere', 'few', 'during', 'an', 'herself', 'everyone', 'nobody', 'unless', 'hasnt'})\n"
     ]
    }
   ],
   "source": [
    "all_stopwords_gensim=all_stopwords_gensim.difference('really')\n",
    "print(all_stopwords_gensim)"
   ]
  },
  {
   "cell_type": "markdown",
   "metadata": {
    "id": "0K7hDI62k39a"
   },
   "source": [
    "### 4. Apply to Email Dataset"
   ]
  },
  {
   "cell_type": "code",
   "execution_count": 13,
   "metadata": {
    "id": "2J_lQKSxk39a"
   },
   "outputs": [],
   "source": [
    "from gensim.utils import tokenize"
   ]
  },
  {
   "cell_type": "code",
   "execution_count": 14,
   "metadata": {
    "id": "TkqxxRjKk39a",
    "outputId": "554cfafc-8657-4746-b859-5d9d6f40aef5"
   },
   "outputs": [
    {
     "name": "stdout",
     "output_type": "stream",
     "text": [
      "['Subject', 's', 'irresistible', 'corporate', 'identity', 'lt', 'hard', 'recollect', 'a', 'market', 'suqgestions', 'information', 'isoverwhelminq', 'a', 'good', 'catchy', 'logo', 'stylish', 'statlonery', 'outstanding', 'website', 'task', 'easier', 't', 'promise', 'havinq', 'ordered', 'a', 'iogo', 'automaticaily', 'a', 'world', 'ieader', 'isguite', 'ciear', 'good', 'products', 'effective', 'business', 'organization', 'practicable', 'aim', 'hotat', 'nowadays', 'market', 'promise', 'marketing', 'efforts', 'effective', 'list', 'clear', 'benefits', 'creativeness', 'hand', 'original', 'logos', 'specially', 'reflect', 'distinctive', 'image', 'convenience', 'logo', 'stationery', 'provided', 'formats', 'easy', 'use', 'content', 'management', 'letsyou', 'change', 'website', 'content', 'structure', 'promptness', 'll', 'logo', 'drafts', 'business', 'days', 'affordability', 'marketing', 'break', 'shouldn', 't', 'gaps', 'budget', 'satisfaction', 'guaranteed', 'provide', 'unlimited', 'changes', 'extra', 'fees', 'surethat', 'love', 'result', 'collaboration', 'a', 'look', 'portfolio', '_', '_', '_', '_', '_', '_', '_', '_', '_', '_', '_', '_', '_', '_', '_', '_', '_', '_', '_', '_', '_', '_', '_', '_', '_', '_', '_', '_', '_', '_', '_', '_', '_', '_', '_', '_', '_', '_', '_', '_', '_', '_', '_', '_', '_', '_', '_', '_', '_', '_', '_', '_', 'interested', '_', '_', '_', '_', '_', '_', '_', '_', '_', '_', '_', '_', '_', '_', '_', '_', '_', '_', '_', '_', '_', '_', '_', '_', '_', '_', '_', '_', '_', '_', '_', '_', '_', '_', '_', '_', '_', '_', '_', '_', '_', '_', '_', '_', '_', '_', '_', '_', '_', '_', '_', '_']\n"
     ]
    }
   ],
   "source": [
    "tokens=list(tokenize(Text))\n",
    "tokens_without_sw = [word for word in tokens if not word in all_stopwords_gensim]\n",
    "print(tokens_without_sw)"
   ]
  },
  {
   "cell_type": "markdown",
   "metadata": {
    "id": "2zJJsTr-k39a"
   },
   "source": [
    "## Using NLTK"
   ]
  },
  {
   "cell_type": "code",
   "execution_count": 13,
   "metadata": {
    "id": "Nlmh2LdHk39a"
   },
   "outputs": [],
   "source": [
    "import nltk\n",
    "from nltk.corpus import stopwords\n",
    "from nltk.tokenize import word_tokenize"
   ]
  },
  {
   "cell_type": "markdown",
   "metadata": {
    "id": "BxX_iZ28k39a"
   },
   "source": [
    "### 1. Showing All"
   ]
  },
  {
   "cell_type": "code",
   "execution_count": 19,
   "metadata": {
    "id": "tFXd4Tihk39a",
    "outputId": "6d4f020e-5558-425f-8f5c-cf6f672ebf8f"
   },
   "outputs": [
    {
     "name": "stdout",
     "output_type": "stream",
     "text": [
      "{'a', 'shan', 'myself', \"isn't\", 'there', 'between', 'ma', 'what', 'from', 'o', 'but', 'don', 'only', 'isn', 'nor', 've', \"mustn't\", 'above', 'were', \"hadn't\", \"she's\", 'shouldn', 't', 'then', 'i', 'no', 'here', 'they', 'while', 'over', 'did', 'needn', 'such', 'mightn', 'up', 'we', 'them', 'your', 'why', 'this', 'after', 'an', 'ain', 'had', 'off', \"you're\", \"that'll\", 'hadn', 'each', 'can', 'doesn', 'him', \"couldn't\", 'in', 'be', 'once', 'didn', 'under', 'where', 'mustn', 'it', 'weren', 'couldn', 'is', 'most', 'very', 'd', 'herself', 'at', 'not', 'any', 'into', 'having', 'few', 'y', 'yourselves', 'she', 'out', \"didn't\", \"doesn't\", \"shouldn't\", 'yours', 'itself', 'do', 'its', 'again', 'our', 'with', 'if', 'ourselves', 'theirs', 'below', \"needn't\", \"you've\", \"wouldn't\", \"wasn't\", 'the', 'doing', 'or', 'through', 'now', 'haven', 'how', 'until', 'some', 'so', 'hers', 'just', 'both', 'aren', 'has', 'wouldn', 'm', 'll', 'on', 're', 'hasn', 'am', 'these', 'during', 'that', 'of', \"you'd\", \"weren't\", 'against', 'too', 'before', \"mightn't\", 'wasn', 'himself', 'because', 'own', 'as', 'than', 'and', \"haven't\", 'when', 'my', 'by', 's', 'will', 'those', 'more', 'you', 'for', 'he', 'was', 'whom', 'which', 'further', 'won', \"won't\", 'his', 'to', \"hasn't\", 'about', \"you'll\", 'down', 'been', \"it's\", 'me', \"should've\", 'their', 'other', 'themselves', 'all', 'same', 'are', 'yourself', 'being', 'should', 'her', 'who', \"don't\", 'ours', \"aren't\", \"shan't\", 'have', 'does'}\n"
     ]
    }
   ],
   "source": [
    "stop_words=set(stopwords.words('english'))\n",
    "print(stop_words)"
   ]
  },
  {
   "cell_type": "markdown",
   "metadata": {
    "id": "E0ocZ7rUk39b"
   },
   "source": [
    "### 2. Remove Stopwords"
   ]
  },
  {
   "cell_type": "code",
   "execution_count": 17,
   "metadata": {
    "id": "_rktj49uk39b",
    "outputId": "f4b840ea-6cc7-4e1a-8fba-35d2febeb9e4"
   },
   "outputs": [
    {
     "name": "stdout",
     "output_type": "stream",
     "text": [
      "{'has', 'am', 'to', 's', 've', 'most', \"haven't\", 'won', 'those', 'd', 'more', 'do', 'myself', 'than', 'y', 'on', 'they', \"mightn't\", 'into', 'yourself', 'other', 'some', 'a', 'down', 'with', 'only', 'don', 'once', 'had', 'or', 'you', 'so', 'if', 'ma', 'and', \"needn't\", 'can', 'her', 'from', 'needn', 'too', 'them', \"that'll\", 'she', 'haven', 'him', 'shan', 'are', 'where', 'being', \"weren't\", 'doing', 'hasn', 'its', 'mightn', 'wasn', 'should', 'why', 'i', 'were', 'yourselves', 'mustn', 're', 'of', 'nor', 'theirs', \"you'd\", 'didn', 'before', 't', 'now', 'because', 'which', 'just', 'that', 'my', 'we', 'been', 'while', 'it', 'out', 'all', 'up', 'any', \"shan't\", 'these', 'each', \"doesn't\", 'such', 'no', 'was', 'o', \"aren't\", 'weren', 'but', 'very', 'further', 'not', 'himself', 'couldn', \"hasn't\", 'ours', 'hers', 'how', 'have', 'hadn', 'off', 'whom', 'until', 'm', \"didn't\", \"hadn't\", \"couldn't\", 'their', \"isn't\", \"wouldn't\", 'by', \"mustn't\", 'when', \"she's\", 'be', 'the', 'does', 'this', 'under', 'will', 'who', 'me', 'here', 'after', 'is', 'between', 'shouldn', \"don't\", 'above', 'itself', 'below', 'yours', 'through', 'isn', 'what', \"it's\", 'at', 'same', 'wouldn', 'about', 'our', 'did', 'ain', 'ourselves', 'there', \"should've\", 'having', 'he', \"wasn't\", 'own', 'again', 'doesn', \"you'll\", 'against', 'both', 'for', 'his', \"you've\", 'your', 'in', \"you're\", 'then', \"shouldn't\", 'few', 'over', 'an', 'during', \"won't\", 'herself', 'themselves', 'aren', 'll'}\n"
     ]
    }
   ],
   "source": [
    "stop_words.remove('as')\n",
    "print(stop_words)"
   ]
  },
  {
   "cell_type": "markdown",
   "metadata": {
    "id": "B5hKUF59k39b"
   },
   "source": [
    "### 3. Adding stopwords"
   ]
  },
  {
   "cell_type": "code",
   "execution_count": 18,
   "metadata": {
    "id": "mVWrVM7vk39b",
    "outputId": "fe052a82-6e1a-4067-8f07-e2ff5b0d39e0"
   },
   "outputs": [
    {
     "name": "stdout",
     "output_type": "stream",
     "text": [
      "{'has', 'am', 'to', 's', 've', 'most', \"haven't\", 'won', 'those', 'd', 'more', 'do', 'myself', 'than', 'y', 'on', 'they', \"mightn't\", 'into', 'yourself', 'other', 'some', 'a', 'down', 'with', 'only', 'don', 'once', 'had', 'or', 'you', 'so', 'if', 'ma', 'and', \"needn't\", 'can', 'her', 'from', 'needn', 'too', 'them', \"that'll\", 'she', 'haven', 'him', 'shan', 'are', 'where', 'being', \"weren't\", 'doing', 'hasn', 'its', 'mightn', 'wasn', 'should', 'why', 'i', 'were', 'yourselves', 'mustn', 're', 'of', 'nor', 'theirs', \"you'd\", 'didn', 'before', 't', 'now', 'because', 'which', 'just', 'that', 'my', 'we', 'been', 'while', 'it', 'out', 'all', 'up', 'any', \"shan't\", 'these', 'each', \"doesn't\", 'such', 'no', 'was', 'o', \"aren't\", 'weren', 'but', 'very', 'further', 'not', 'himself', 'couldn', \"hasn't\", 'ours', 'hers', 'how', 'have', 'hadn', 'off', 'whom', 'until', 'm', \"didn't\", \"hadn't\", \"couldn't\", 'their', \"isn't\", \"wouldn't\", 'by', \"mustn't\", 'when', \"she's\", 'be', 'the', 'does', 'this', 'under', 'will', 'who', 'me', 'here', 'after', 'is', 'between', 'shouldn', \"don't\", 'above', 'itself', 'below', 'yours', 'through', 'isn', 'what', \"it's\", 'at', 'same', 'wouldn', 'about', 'our', 'did', 'ain', 'ourselves', 'there', \"should've\", 'having', 'he', \"wasn't\", 'own', 'again', 'doesn', \"you'll\", 'against', 'both', 'for', 'his', \"you've\", 'your', 'in', \"you're\", 'then', \"shouldn't\", 'few', 'over', 'an', 'during', \"won't\", 'herself', 'themselves', 'aren', 'll', 'Subject:'}\n"
     ]
    }
   ],
   "source": [
    "stop_words.add('Subject:')\n",
    "print(stop_words)"
   ]
  },
  {
   "cell_type": "markdown",
   "metadata": {
    "id": "CdKTRM6uk39c"
   },
   "source": [
    "### 4. Apply to dataset"
   ]
  },
  {
   "cell_type": "code",
   "execution_count": 19,
   "metadata": {
    "id": "ThOfGyv1k39c",
    "outputId": "a9d98f10-0f77-44d5-b616-8670f6425654"
   },
   "outputs": [
    {
     "data": {
      "text/plain": [
       "'Subject: 4 color printing special  request additional information now ! click here  click here for a printable version of our order form ( pdf format )  phone : ( 626 ) 338 - 8090 fax : ( 626 ) 338 - 8102 e - mail : ramsey @ goldengraphix . com  request additional information now ! click here  click here for a printable version of our order form ( pdf format )  golden graphix & printing 5110 azusa canyon rd . irwindale , ca 91706 this e - mail message is an advertisement and / or solicitation of games54 and Game5S4 . '"
      ]
     },
     "execution_count": 19,
     "metadata": {},
     "output_type": "execute_result"
    }
   ],
   "source": [
    "Text=data['text'][3]\n",
    "Text"
   ]
  },
  {
   "cell_type": "code",
   "execution_count": 20,
   "metadata": {
    "id": "uZ0EtxLQk39c",
    "outputId": "6c49f6f9-596e-415a-b419-009b95d0b8b1"
   },
   "outputs": [
    {
     "data": {
      "text/plain": [
       "'4 color printing special request additional information ! click click printable version order form ( pdf format ) phone : ( 626 ) 338 - 8090 fax : ( 626 ) 338 - 8102 e - mail : ramsey @ goldengraphix . com request additional information ! click click printable version order form ( pdf format ) golden graphix & printing 5110 azusa canyon rd . irwindale , ca 91706 e - mail message advertisement / solicitation games54 Game5S4 .'"
      ]
     },
     "execution_count": 20,
     "metadata": {},
     "output_type": "execute_result"
    }
   ],
   "source": [
    "def remove_stopwords(text):\n",
    "    return \" \".join([word for word in str(text).split() if word not in stop_words])\n",
    "data['text']= data['text'].apply(lambda x: remove_stopwords(x))\n",
    "data['text'][3]"
   ]
  }
 ],
 "metadata": {
  "colab": {
   "collapsed_sections": [
    "2zJJsTr-k39a"
   ],
   "provenance": []
  },
  "kernelspec": {
   "display_name": "Python 3 (ipykernel)",
   "language": "python",
   "name": "python3"
  },
  "language_info": {
   "codemirror_mode": {
    "name": "ipython",
    "version": 3
   },
   "file_extension": ".py",
   "mimetype": "text/x-python",
   "name": "python",
   "nbconvert_exporter": "python",
   "pygments_lexer": "ipython3",
   "version": "3.11.7"
  }
 },
 "nbformat": 4,
 "nbformat_minor": 4
}
