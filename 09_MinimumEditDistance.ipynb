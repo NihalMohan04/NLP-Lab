{
 "cells": [
  {
   "cell_type": "code",
   "execution_count": 1,
   "id": "0f660549",
   "metadata": {
    "colab": {
     "base_uri": "https://localhost:8080/"
    },
    "executionInfo": {
     "elapsed": 601,
     "status": "ok",
     "timestamp": 1713470158755,
     "user": {
      "displayName": "Harshit Raj",
      "userId": "00461961014179132180"
     },
     "user_tz": -330
    },
    "id": "0f660549",
    "outputId": "77054711-3bf2-4724-f0a2-9cbf66c1b3ba"
   },
   "outputs": [
    {
     "name": "stdout",
     "output_type": "stream",
     "text": [
      "No. of operations required: 1\n",
      "No. of operations required: 3\n"
     ]
    }
   ],
   "source": [
    "def minimum_edit_distance(str1, str2, m, n):\n",
    "    string_matrix = [[0 for i in range(n+1)] for j in range(m+1)]\n",
    "    for i in range(m+1):\n",
    "        for j in range(n+1):\n",
    "            if i == 0:\n",
    "                string_matrix[i][j] = j\n",
    "            elif j == 0:\n",
    "                string_matrix[i][j] = i\n",
    "            elif str1[i-1] == str2[j-1]:\n",
    "                string_matrix[i][j] = string_matrix[i-1][j-1]\n",
    "            else:\n",
    "                string_matrix[i][j] = 1 + min(string_matrix[i-1][j], string_matrix[i][j-1], string_matrix[i-1][j-1])\n",
    "    return string_matrix[m][n]\n",
    "\n",
    "if __name__ == \"__main__\":\n",
    "    str1 = \"rats\"\n",
    "    str2 = \"cats\"\n",
    "    print(\"No. of operations required:\", minimum_edit_distance(str1, str2, len(str1), len(str2)))\n",
    "\n",
    "    str3 = \"Saturday\"\n",
    "    str4 = \"Sunday\"\n",
    "    print(\"No. of operations required:\", minimum_edit_distance(str3, str4, len(str3), len(str4)))\n"
   ]
  },
  {
   "cell_type": "code",
   "execution_count": 2,
   "id": "84b12665-475c-4286-9a1c-7633b40671d6",
   "metadata": {},
   "outputs": [
    {
     "data": {
      "text/plain": [
       "3"
      ]
     },
     "execution_count": 2,
     "metadata": {},
     "output_type": "execute_result"
    }
   ],
   "source": [
    "import editdistance\n",
    "editdistance.eval(\"Saturday\", \"Sunday\")"
   ]
  },
  {
   "cell_type": "code",
   "execution_count": null,
   "id": "90fe9ec6-2962-4dac-898c-0494442a0133",
   "metadata": {},
   "outputs": [],
   "source": []
  }
 ],
 "metadata": {
  "colab": {
   "provenance": []
  },
  "kernelspec": {
   "display_name": "Python 3 (ipykernel)",
   "language": "python",
   "name": "python3"
  },
  "language_info": {
   "codemirror_mode": {
    "name": "ipython",
    "version": 3
   },
   "file_extension": ".py",
   "mimetype": "text/x-python",
   "name": "python",
   "nbconvert_exporter": "python",
   "pygments_lexer": "ipython3",
   "version": "3.11.7"
  }
 },
 "nbformat": 4,
 "nbformat_minor": 5
}
