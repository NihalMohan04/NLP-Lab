{
 "cells": [
  {
   "cell_type": "markdown",
   "metadata": {
    "id": "92xV2ojxk4Z8"
   },
   "source": [
    "# Generate n-gram representation of the corpus.\n",
    "1. Preprocessing the corpus for n-gram representation\n",
    "2. Display all tokens, distinct tokens and frequency of tokens in the corpus.\n",
    "3. Bi-Gram and frequency represenation using user defined functions.\n",
    "4. Tri-Gram and frequency representation using user defined functions.\n"
   ]
  },
  {
   "cell_type": "code",
   "execution_count": 2,
   "metadata": {
    "id": "CrVrVKwOk4aD",
    "outputId": "5096942c-c91b-4bc5-f5de-6186155cb4ef"
   },
   "outputs": [
    {
     "name": "stdout",
     "output_type": "stream",
     "text": [
      "The Arabian knights.These are the fairy tales of the east.The stories of the Arabian knights are translated in many languages\n"
     ]
    }
   ],
   "source": [
    "import nltk\n",
    "with open('NGRAM.txt') as f:\n",
    "    corpus = f.readline()\n",
    "print(corpus)"
   ]
  },
  {
   "cell_type": "markdown",
   "metadata": {
    "id": "FhuRZfL2k4aE"
   },
   "source": [
    "## 1. Preprocessing"
   ]
  },
  {
   "cell_type": "code",
   "execution_count": 7,
   "metadata": {
    "id": "OrQQWSV-k4aF",
    "outputId": "3a653cce-4bee-42c4-c7d3-9f53a2c7d0e8"
   },
   "outputs": [
    {
     "name": "stdout",
     "output_type": "stream",
     "text": [
      "eos the arabian knights eos these are the fairy tales of the east eos the stories of the arabian knights are translated in many languages\n"
     ]
    }
   ],
   "source": [
    "corpus = corpus.lower()\n",
    "corpus = \"eos \"+corpus\n",
    "corpus = corpus.replace(\".\",\" eos \")\n",
    "print(corpus)"
   ]
  },
  {
   "cell_type": "markdown",
   "metadata": {
    "id": "KoAsMa22k4aG"
   },
   "source": [
    "## 2. Tokenization"
   ]
  },
  {
   "cell_type": "code",
   "execution_count": 12,
   "metadata": {
    "id": "dXMrWKTHk4aG",
    "outputId": "af977709-aa5d-4516-ad7c-0a602d919962"
   },
   "outputs": [],
   "source": [
    "from nltk.tokenize import word_tokenize\n",
    "tokens = word_tokenize(corpus)\n",
    "unique_tokens = set(tokens)"
   ]
  },
  {
   "cell_type": "markdown",
   "metadata": {
    "id": "pyA9yteXk4aH"
   },
   "source": [
    "## 3. Find out Frequencies"
   ]
  },
  {
   "cell_type": "code",
   "execution_count": 13,
   "metadata": {
    "id": "n-_DfTqHk4aH",
    "outputId": "e88fec03-0fbf-4221-fa73-21c2609ee689"
   },
   "outputs": [
    {
     "name": "stdout",
     "output_type": "stream",
     "text": [
      "Freq of each tokens =  {'eos': 3, 'the': 5, 'arabian': 2, 'knights': 2, 'these': 1, 'are': 2, 'fairy': 1, 'tales': 1, 'of': 2, 'east': 1, 'stories': 1, 'translated': 1, 'in': 1, 'many': 1, 'languages': 1}\n"
     ]
    }
   ],
   "source": [
    "dct = {}\n",
    "for i in tokens:\n",
    "    dct[i] = 0\n",
    "for i in tokens:\n",
    "    dct[i] += 1\n",
    "print(\"Freq of each tokens = \", dct)"
   ]
  },
  {
   "cell_type": "markdown",
   "metadata": {
    "id": "wNMq9IHik4aH"
   },
   "source": [
    "## 4. Generate n-grams(bi-grams)/trigrams and freq."
   ]
  },
  {
   "cell_type": "code",
   "execution_count": 14,
   "metadata": {
    "id": "HhAB_1Lsk4aI"
   },
   "outputs": [],
   "source": [
    "from collections import Counter\n",
    "def n_gram(tokens: list ,  k: int) -> dict:\n",
    "    l = [\" \".join(tokens[i:i+k]) for i in range(len(tokens)-k+1)]\n",
    "    l_count = Counter(l)\n",
    "    return dict(l_count)"
   ]
  },
  {
   "cell_type": "code",
   "execution_count": 15,
   "metadata": {
    "id": "hlHfTh3Lk4aI",
    "outputId": "25523fd3-e1fa-4650-84c4-3243bde45098"
   },
   "outputs": [
    {
     "data": {
      "text/plain": [
       "{'eos the': 2,\n",
       " 'the arabian': 2,\n",
       " 'arabian knights': 2,\n",
       " 'knights eos': 1,\n",
       " 'eos these': 1,\n",
       " 'these are': 1,\n",
       " 'are the': 1,\n",
       " 'the fairy': 1,\n",
       " 'fairy tales': 1,\n",
       " 'tales of': 1,\n",
       " 'of the': 2,\n",
       " 'the east': 1,\n",
       " 'east eos': 1,\n",
       " 'the stories': 1,\n",
       " 'stories of': 1,\n",
       " 'knights are': 1,\n",
       " 'are translated': 1,\n",
       " 'translated in': 1,\n",
       " 'in many': 1,\n",
       " 'many languages': 1}"
      ]
     },
     "execution_count": 15,
     "metadata": {},
     "output_type": "execute_result"
    }
   ],
   "source": [
    "n_gram(tokens , 2)"
   ]
  },
  {
   "cell_type": "code",
   "execution_count": 16,
   "metadata": {},
   "outputs": [
    {
     "data": {
      "text/plain": [
       "{'eos the arabian': 1,\n",
       " 'the arabian knights': 2,\n",
       " 'arabian knights eos': 1,\n",
       " 'knights eos these': 1,\n",
       " 'eos these are': 1,\n",
       " 'these are the': 1,\n",
       " 'are the fairy': 1,\n",
       " 'the fairy tales': 1,\n",
       " 'fairy tales of': 1,\n",
       " 'tales of the': 1,\n",
       " 'of the east': 1,\n",
       " 'the east eos': 1,\n",
       " 'east eos the': 1,\n",
       " 'eos the stories': 1,\n",
       " 'the stories of': 1,\n",
       " 'stories of the': 1,\n",
       " 'of the arabian': 1,\n",
       " 'arabian knights are': 1,\n",
       " 'knights are translated': 1,\n",
       " 'are translated in': 1,\n",
       " 'translated in many': 1,\n",
       " 'in many languages': 1}"
      ]
     },
     "execution_count": 16,
     "metadata": {},
     "output_type": "execute_result"
    }
   ],
   "source": [
    "n_gram(tokens , 3)"
   ]
  },
  {
   "cell_type": "code",
   "execution_count": null,
   "metadata": {},
   "outputs": [],
   "source": []
  },
  {
   "cell_type": "code",
   "execution_count": null,
   "metadata": {},
   "outputs": [],
   "source": []
  }
 ],
 "metadata": {
  "colab": {
   "provenance": []
  },
  "kernelspec": {
   "display_name": "Python 3 (ipykernel)",
   "language": "python",
   "name": "python3"
  },
  "language_info": {
   "codemirror_mode": {
    "name": "ipython",
    "version": 3
   },
   "file_extension": ".py",
   "mimetype": "text/x-python",
   "name": "python",
   "nbconvert_exporter": "python",
   "pygments_lexer": "ipython3",
   "version": "3.11.7"
  }
 },
 "nbformat": 4,
 "nbformat_minor": 4
}
